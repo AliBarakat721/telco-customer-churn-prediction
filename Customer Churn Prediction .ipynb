{
 "cells": [
  {
   "cell_type": "code",
   "execution_count": null,
   "id": "6c62ec58",
   "metadata": {},
   "outputs": [],
   "source": [
    "import pandas as pd\n",
    "import numpy as np\n",
    "import matplotlib.pyplot as plt\n",
    "import seaborn as sns\n",
    "\n",
    "plt.style.use(\"fivethirtyeight\")"
   ]
  },
  {
   "cell_type": "code",
   "execution_count": null,
   "id": "0d9a5e65",
   "metadata": {},
   "outputs": [],
   "source": [
    "df = pd.read_csv(\"WA_Fn-UseC_-Telco-Customer-Churn.csv\")"
   ]
  },
  {
   "cell_type": "code",
   "execution_count": null,
   "id": "16d0fbbe",
   "metadata": {},
   "outputs": [],
   "source": [
    "df.head()"
   ]
  },
  {
   "cell_type": "code",
   "execution_count": null,
   "id": "0b873f06",
   "metadata": {},
   "outputs": [],
   "source": [
    "df.shape"
   ]
  },
  {
   "cell_type": "code",
   "execution_count": null,
   "id": "fa79eb90",
   "metadata": {},
   "outputs": [],
   "source": [
    "df.info()"
   ]
  },
  {
   "cell_type": "code",
   "execution_count": null,
   "id": "df9169fb",
   "metadata": {},
   "outputs": [],
   "source": [
    "df.drop(columns = ['customerID'], inplace=True)"
   ]
  },
  {
   "cell_type": "code",
   "execution_count": null,
   "id": "47993e54",
   "metadata": {},
   "outputs": [],
   "source": [
    "df.head()"
   ]
  },
  {
   "cell_type": "code",
   "execution_count": null,
   "id": "e731327a",
   "metadata": {},
   "outputs": [],
   "source": [
    "df.columns"
   ]
  },
  {
   "cell_type": "code",
   "execution_count": null,
   "id": "5c6dc8e3",
   "metadata": {},
   "outputs": [],
   "source": [
    "df['gender'].value_counts()"
   ]
  },
  {
   "cell_type": "code",
   "execution_count": null,
   "id": "ecf8649f",
   "metadata": {},
   "outputs": [],
   "source": [
    "df['SeniorCitizen'].unique()"
   ]
  },
  {
   "cell_type": "code",
   "execution_count": null,
   "id": "282476b1",
   "metadata": {},
   "outputs": [],
   "source": [
    "for col in df.columns:\n",
    "    if col not in ['tenure', 'MonthlyCharges', 'TotalCharges']:\n",
    "        print(col, df[col].unique())\n",
    "        print(\"-------------------------------------\")"
   ]
  },
  {
   "cell_type": "code",
   "execution_count": null,
   "id": "5a4b55cd",
   "metadata": {},
   "outputs": [],
   "source": [
    "df.isnull().sum()"
   ]
  },
  {
   "cell_type": "code",
   "execution_count": null,
   "id": "205f5609",
   "metadata": {},
   "outputs": [],
   "source": [
    "for col in ['tenure', 'MonthlyCharges', 'TotalCharges']:\n",
    "    print(col, len(df[df[col]== \" \"]))\n",
    "    print(\"-------------------------------------\")"
   ]
  },
  {
   "cell_type": "code",
   "execution_count": null,
   "id": "d31c5e85",
   "metadata": {},
   "outputs": [],
   "source": [
    "df['TotalCharges'] = df['TotalCharges'].replace({\" \": \"0.0\"}).astype(float)"
   ]
  },
  {
   "cell_type": "code",
   "execution_count": null,
   "id": "20edb255",
   "metadata": {},
   "outputs": [],
   "source": [
    "df.info()"
   ]
  },
  {
   "cell_type": "code",
   "execution_count": null,
   "id": "3290dc10",
   "metadata": {},
   "outputs": [],
   "source": [
    "df['Churn'].value_counts()"
   ]
  },
  {
   "cell_type": "markdown",
   "id": "9b8767d7",
   "metadata": {},
   "source": [
    "Exploratory Data Analysis"
   ]
  },
  {
   "cell_type": "code",
   "execution_count": null,
   "id": "b5862212",
   "metadata": {},
   "outputs": [],
   "source": [
    "df.shape"
   ]
  },
  {
   "cell_type": "code",
   "execution_count": null,
   "id": "a4421b45",
   "metadata": {},
   "outputs": [],
   "source": [
    "df.columns"
   ]
  },
  {
   "cell_type": "code",
   "execution_count": null,
   "id": "e0b1fdc2",
   "metadata": {},
   "outputs": [],
   "source": [
    "df.describe().T"
   ]
  },
  {
   "cell_type": "code",
   "execution_count": null,
   "id": "30bb15a7",
   "metadata": {},
   "outputs": [],
   "source": [
    "def plot_distribution(df, column_name):\n",
    "    plt.figure(figsize=(12, 4))\n",
    "    plt.subplot(1, 2, 1)\n",
    "    sns.histplot(df[column_name], kde = True)\n",
    "    plt.title(f\"Distribution of {column_name}\")\n",
    "    \n",
    "    col_mean = df[column_name].mean()\n",
    "    col_median = df[column_name].median()\n",
    "    plt.axvline(col_mean, color = \"red\", linestyle=\"--\", label=\"Mean\")\n",
    "    plt.axvline(col_median, color = \"blue\", linestyle=\"--\", label=\"Median\")\n",
    "    \n",
    "    plt.legend()\n",
    "    \n",
    "    plt.subplot(1, 2, 2)\n",
    "    sns.boxplot(y  = df[column_name])\n",
    "    plt.title(f\"Boxplot of {column_name}\")\n",
    "    plt.show()\n",
    "for  col in [\"tenure\" , \"MonthlyCharges\" ,\"TotalCharges\" ]:\n",
    "\n",
    "    print(plot_distribution(df, col))"
   ]
  },
  {
   "cell_type": "code",
   "execution_count": null,
   "id": "3dc2b381",
   "metadata": {},
   "outputs": [],
   "source": [
    "numerical_cols = df[['tenure', 'MonthlyCharges', 'TotalCharges']]\n",
    "\n",
    "# 2. Calculate the correlation matrix for these columns\n",
    "corr_matrix = numerical_cols.corr()\n",
    "\n",
    "# 3. Create the heatmap using seaborn\n",
    "plt.figure(figsize=(8, 6)) # Set the size of the figure\n",
    "sns.heatmap(\n",
    "    corr_matrix,          \n",
    "    annot=True,            \n",
    "    fmt=\".2f\",            \n",
    "    cmap=\"coolwarm\"       \n",
    ")\n",
    "plt.title(\"Correlation Matrix\") # Add a title\n",
    "plt.show() # Display the plot\n"
   ]
  },
  {
   "cell_type": "code",
   "execution_count": null,
   "id": "0d652e0d",
   "metadata": {},
   "outputs": [],
   "source": [
    "categorical_cols = df.select_dtypes(include = \"object\").columns.to_list() + ['SeniorCitizen']\n",
    "\n",
    "for col in categorical_cols:\n",
    "    plt.figure(figsize = (6, 4))\n",
    "#     sns.countplot(data = df, x = col, hue = 'Churn')\n",
    "    sns.countplot(x = df[col])\n",
    "    plt.title(f\"{col} Distribution by Churn\")\n",
    "    plt.show()"
   ]
  },
  {
   "cell_type": "code",
   "execution_count": null,
   "id": "b794b9d7",
   "metadata": {},
   "outputs": [],
   "source": [
    "# Label Encoding\n",
    "df['Churn'] = df['Churn'].replace({\"Yes\": 1, \"No\": 0})"
   ]
  },
  {
   "cell_type": "code",
   "execution_count": null,
   "id": "18e9f95b",
   "metadata": {},
   "outputs": [],
   "source": [
    "df.info()"
   ]
  },
  {
   "cell_type": "code",
   "execution_count": null,
   "id": "4fdf958e",
   "metadata": {},
   "outputs": [],
   "source": [
    "objects_columns = df.select_dtypes(include = \"object\").columns"
   ]
  },
  {
   "cell_type": "code",
   "execution_count": null,
   "id": "24366f3d",
   "metadata": {},
   "outputs": [],
   "source": [
    "objects_columns"
   ]
  },
  {
   "cell_type": "code",
   "execution_count": null,
   "id": "cbb769ec",
   "metadata": {},
   "outputs": [],
   "source": [
    "from sklearn.preprocessing import LabelEncoder\n",
    "\n",
    "encoders = {}\n",
    "\n",
    "for column in objects_columns:\n",
    "    label_encoder = LabelEncoder()\n",
    "    df[column] = label_encoder.fit_transform(df[column])\n",
    "    encoders[column] = label_encoder"
   ]
  },
  {
   "cell_type": "code",
   "execution_count": null,
   "id": "d8c16651",
   "metadata": {},
   "outputs": [],
   "source": [
    "encoders"
   ]
  },
  {
   "cell_type": "code",
   "execution_count": null,
   "id": "e4690a40",
   "metadata": {},
   "outputs": [],
   "source": [
    "df.info()"
   ]
  },
  {
   "cell_type": "code",
   "execution_count": null,
   "id": "a25f9993",
   "metadata": {},
   "outputs": [],
   "source": [
    "import pickle\n",
    "with open(\"encoder.pkl\", \"wb\") as f:\n",
    "    pickle.dump(encoders, f)"
   ]
  },
  {
   "cell_type": "code",
   "execution_count": null,
   "id": "7c74a00b",
   "metadata": {},
   "outputs": [],
   "source": []
  },
  {
   "cell_type": "code",
   "execution_count": null,
   "id": "1c08f3ee",
   "metadata": {},
   "outputs": [],
   "source": [
    "from sklearn.preprocessing import StandardScaler\n",
    "numerical_cols = ['tenure', 'MonthlyCharges', 'TotalCharges']\n",
    "scaler = StandardScaler()\n",
    "df[numerical_cols] = scaler.fit_transform(df[numerical_cols])"
   ]
  },
  {
   "cell_type": "code",
   "execution_count": null,
   "id": "c6c864e5",
   "metadata": {},
   "outputs": [],
   "source": [
    "df['Churn'].value_counts()"
   ]
  },
  {
   "cell_type": "code",
   "execution_count": null,
   "id": "b14e30dd",
   "metadata": {},
   "outputs": [],
   "source": [
    "from imblearn.over_sampling import SMOTE\n",
    "from sklearn.model_selection import train_test_split, cross_val_score, GridSearchCV\n",
    "from sklearn.ensemble import RandomForestClassifier\n",
    "from xgboost import XGBClassifier\n",
    "from sklearn.metrics import accuracy_score, confusion_matrix, classification_report, roc_auc_score"
   ]
  },
  {
   "cell_type": "code",
   "execution_count": null,
   "id": "b6543177",
   "metadata": {},
   "outputs": [],
   "source": [
    "X = df.drop(columns = ['Churn'])\n",
    "y = df['Churn']"
   ]
  },
  {
   "cell_type": "code",
   "execution_count": null,
   "id": "23e853c6",
   "metadata": {},
   "outputs": [],
   "source": [
    "X_train, X_test, y_train, y_test = train_test_split(X, y, test_size = 0.2, random_state = 42)"
   ]
  },
  {
   "cell_type": "code",
   "execution_count": null,
   "id": "7bc93edd",
   "metadata": {},
   "outputs": [],
   "source": [
    "print(y_train.value_counts())\n"
   ]
  },
  {
   "cell_type": "code",
   "execution_count": null,
   "id": "c64a1ea2",
   "metadata": {},
   "outputs": [],
   "source": []
  },
  {
   "cell_type": "code",
   "execution_count": null,
   "id": "ec30cd15",
   "metadata": {},
   "outputs": [],
   "source": [
    "smote = SMOTE(random_state = 42)\n",
    "X_train_smote, y_train_smote = smote.fit_resample(X_train, y_train)"
   ]
  },
  {
   "cell_type": "code",
   "execution_count": null,
   "id": "cfc8a598",
   "metadata": {},
   "outputs": [],
   "source": [
    "y_train_smote.value_counts()"
   ]
  },
  {
   "cell_type": "code",
   "execution_count": null,
   "id": "d55d0e54",
   "metadata": {},
   "outputs": [],
   "source": [
    "models = {\n",
    "    \"Random Forest\": RandomForestClassifier(random_state=42),\n",
    "    \"XGBoost\": XGBClassifier(random_state=42)\n",
    "}\n",
    "hyperparameters = {\n",
    "    \"Random Forest\" :{\n",
    "        \"n_estimators\": [50,100, 200],\n",
    "        \"max_depth\": [5, 10, None],\n",
    "    },\n",
    "    \"XGBoost\":{\n",
    "        \"learning_rate\": [0.01, 0.1, 0.2],\n",
    "        \"max_depth\": [3, 5, 7],\n",
    "    }\n",
    "}"
   ]
  },
  {
   "cell_type": "code",
   "execution_count": null,
   "id": "e9c6ec98",
   "metadata": {},
   "outputs": [],
   "source": [
    "best_models = {}\n",
    "for model_name , model in models.items():\n",
    "    print(f\"Tunning {model_name}......\")\n",
    "    grid = GridSearchCV(estimator=model, param_grid=hyperparameters[model_name], cv=5, scoring = \"accuracy\")\n",
    "    grid.fit(X_train_smote, y_train_smote)\n",
    "    best_models[model_name] =grid.best_estimator_\n",
    "    print(f\"Best parameters for {model_name} : {grid.best_params_}\")\n",
    "    print(f\"Best Accuracy for {model_name} : {grid.best_score_: .2f}\\n\")"
   ]
  },
  {
   "cell_type": "code",
   "execution_count": null,
   "id": "72275e3b",
   "metadata": {},
   "outputs": [],
   "source": [
    "best_models"
   ]
  },
  {
   "cell_type": "code",
   "execution_count": null,
   "id": "17e7bab9",
   "metadata": {},
   "outputs": [],
   "source": [
    "with open(\"best_model.pkl\", \"wb\") as f:\n",
    "    pickle.dump(best_models['Random Forest'], f)"
   ]
  },
  {
   "cell_type": "code",
   "execution_count": null,
   "id": "48ba2986",
   "metadata": {},
   "outputs": [],
   "source": [
    "with open(\"scaler.pkl\", \"wb\") as f:\n",
    "    pickle.dump(scaler, f)"
   ]
  },
  {
   "cell_type": "code",
   "execution_count": null,
   "id": "43fa63ce",
   "metadata": {},
   "outputs": [],
   "source": [
    "y_test_pred = best_models['Random Forest'].predict(X_test)\n",
    "y_test_prob = best_models['Random Forest'].predict_proba(X_test)[:, 1]"
   ]
  },
  {
   "cell_type": "code",
   "execution_count": null,
   "id": "a68f2d50",
   "metadata": {},
   "outputs": [],
   "source": [
    "print(y_test_pred)"
   ]
  },
  {
   "cell_type": "code",
   "execution_count": null,
   "id": "d090f0f0",
   "metadata": {},
   "outputs": [],
   "source": [
    "print(y_test_prob)"
   ]
  },
  {
   "cell_type": "code",
   "execution_count": null,
   "id": "90d7a9aa",
   "metadata": {},
   "outputs": [],
   "source": [
    "print(f\"Accuracy : \", accuracy_score(y_test, y_test_pred))\n",
    "print(f\"ROC - AUC Score : \", roc_auc_score(y_test, y_test_pred))\n",
    "print(f\"Confusion Matrix : \\n\", confusion_matrix(y_test, y_test_pred))\n",
    "print(f\"Classification Report : \\n\", classification_report(y_test, y_test_pred))"
   ]
  },
  {
   "cell_type": "code",
   "execution_count": null,
   "id": "1893ba81",
   "metadata": {},
   "outputs": [],
   "source": [
    "with open(\"best_model.pkl\", \"rb\") as f:\n",
    "    loaded_model = pickle.load(f)\n",
    "with open(\"encoder.pkl\", \"rb\") as f:\n",
    "    encoders = pickle.load(f)\n",
    "with open(\"scaler.pkl\", \"rb\") as f:\n",
    "    scaler_data =pickle.load(f)"
   ]
  },
  {
   "cell_type": "code",
   "execution_count": null,
   "id": "6b09890b",
   "metadata": {},
   "outputs": [],
   "source": [
    "def make_prediction(input_data):\n",
    "    input_df = pd.DataFrame([input_data])\n",
    "    for col, encoder in encoders.items():\n",
    "        input_df[col] = encoder.transform(input_df[col])\n",
    "    numerical_cols = ['tenure', 'MonthlyCharges', 'TotalCharges']\n",
    "    input_df[numerical_cols] = scaler_data.transform(input_df[numerical_cols])\n",
    "    prediction = loaded_model.predict(input_df)[0]\n",
    "    probability = loaded_model.predict_proba(input_df)[0, 1]\n",
    "    return \"Churn\" if prediction == 1 else \"No Churn\", probability"
   ]
  },
  {
   "cell_type": "code",
   "execution_count": null,
   "id": "96c815ac",
   "metadata": {},
   "outputs": [],
   "source": [
    "df.columns"
   ]
  },
  {
   "cell_type": "code",
   "execution_count": null,
   "id": "d5b85b14",
   "metadata": {},
   "outputs": [],
   "source": [
    "example_input = {\n",
    "    'gender': 'Female',\n",
    "    'SeniorCitizen': 0,\n",
    "    'Partner': 'Yes',\n",
    "    'Dependents': 'No',\n",
    "    'tenure': 1,\n",
    "    'PhoneService': 'No',\n",
    "    'MultipleLines': 'No phone service',\n",
    "    'InternetService': 'DSL',\n",
    "    'OnlineSecurity': 'No',\n",
    "    'OnlineBackup': 'Yes',\n",
    "    'DeviceProtection': 'No',\n",
    "    'TechSupport': 'No',\n",
    "    'StreamingTV': 'No',\n",
    "    'StreamingMovies': 'No',\n",
    "    'Contract': 'Month-to-month',\n",
    "    'PaperlessBilling': 'Yes',\n",
    "    'PaymentMethod': 'Electronic check',\n",
    "    'MonthlyCharges': 29.85,\n",
    "    'TotalCharges': 29.85\n",
    "}"
   ]
  },
  {
   "cell_type": "code",
   "execution_count": null,
   "id": "eb82368d",
   "metadata": {},
   "outputs": [],
   "source": [
    "prediction_result, churn_probability = make_prediction(example_input) \n",
    "print(f\"Prediction: {prediction_result}\") \n",
    "print(f\"Probability of Churn: {churn_probability:.2f}\")"
   ]
  },
  {
   "cell_type": "code",
   "execution_count": null,
   "id": "30ebcfbb",
   "metadata": {},
   "outputs": [],
   "source": [
    "# Flask Framework web application"
   ]
  }
 ],
 "metadata": {
  "kernelspec": {
   "display_name": "venv",
   "language": "python",
   "name": "python3"
  },
  "language_info": {
   "codemirror_mode": {
    "name": "ipython",
    "version": 3
   },
   "file_extension": ".py",
   "mimetype": "text/x-python",
   "name": "python",
   "nbconvert_exporter": "python",
   "pygments_lexer": "ipython3",
   "version": "3.10.11"
  }
 },
 "nbformat": 4,
 "nbformat_minor": 5
}
